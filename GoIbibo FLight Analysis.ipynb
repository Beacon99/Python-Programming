{
 "cells": [
  {
   "cell_type": "code",
   "execution_count": 9,
   "id": "6dc1c50f-fe16-47f6-ad4c-5b64559292ee",
   "metadata": {},
   "outputs": [],
   "source": [
    "import pandas as pd\n",
    "import numpy as np"
   ]
  },
  {
   "cell_type": "code",
   "execution_count": 10,
   "id": "93c03d40-a5a1-4e5d-8fe1-157140e434a5",
   "metadata": {},
   "outputs": [],
   "source": [
    "data=pd.read_csv(r\"C:\\Users\\UTKARSH\\Downloads\\goibibo_flights_data.csv\")"
   ]
  },
  {
   "cell_type": "code",
   "execution_count": 11,
   "id": "ae3fda92-2a60-4037-a9ba-b4bc984935dd",
   "metadata": {},
   "outputs": [
    {
     "data": {
      "text/html": [
       "<div>\n",
       "<style scoped>\n",
       "    .dataframe tbody tr th:only-of-type {\n",
       "        vertical-align: middle;\n",
       "    }\n",
       "\n",
       "    .dataframe tbody tr th {\n",
       "        vertical-align: top;\n",
       "    }\n",
       "\n",
       "    .dataframe thead th {\n",
       "        text-align: right;\n",
       "    }\n",
       "</style>\n",
       "<table border=\"1\" class=\"dataframe\">\n",
       "  <thead>\n",
       "    <tr style=\"text-align: right;\">\n",
       "      <th></th>\n",
       "      <th>flight date</th>\n",
       "      <th>airline</th>\n",
       "      <th>flight_num</th>\n",
       "      <th>class</th>\n",
       "      <th>from</th>\n",
       "      <th>dep_time</th>\n",
       "      <th>to</th>\n",
       "      <th>arr_time</th>\n",
       "      <th>duration</th>\n",
       "      <th>price</th>\n",
       "      <th>stops</th>\n",
       "      <th>Unnamed: 11</th>\n",
       "      <th>Unnamed: 12</th>\n",
       "    </tr>\n",
       "  </thead>\n",
       "  <tbody>\n",
       "    <tr>\n",
       "      <th>0</th>\n",
       "      <td>26-06-2023</td>\n",
       "      <td>SpiceJet</td>\n",
       "      <td>SG-8709</td>\n",
       "      <td>economy</td>\n",
       "      <td>Delhi</td>\n",
       "      <td>18:55</td>\n",
       "      <td>Mumbai</td>\n",
       "      <td>21:05</td>\n",
       "      <td>02h 10m</td>\n",
       "      <td>6,013</td>\n",
       "      <td>non-stop</td>\n",
       "      <td>NaN</td>\n",
       "      <td>NaN</td>\n",
       "    </tr>\n",
       "    <tr>\n",
       "      <th>1</th>\n",
       "      <td>26-06-2023</td>\n",
       "      <td>SpiceJet</td>\n",
       "      <td>SG-8157</td>\n",
       "      <td>economy</td>\n",
       "      <td>Delhi</td>\n",
       "      <td>06:20</td>\n",
       "      <td>Mumbai</td>\n",
       "      <td>08:40</td>\n",
       "      <td>02h 20m</td>\n",
       "      <td>6,013</td>\n",
       "      <td>non-stop</td>\n",
       "      <td>NaN</td>\n",
       "      <td>NaN</td>\n",
       "    </tr>\n",
       "    <tr>\n",
       "      <th>2</th>\n",
       "      <td>26-06-2023</td>\n",
       "      <td>AirAsia</td>\n",
       "      <td>I5-764</td>\n",
       "      <td>economy</td>\n",
       "      <td>Delhi</td>\n",
       "      <td>04:25</td>\n",
       "      <td>Mumbai</td>\n",
       "      <td>06:35</td>\n",
       "      <td>02h 10m</td>\n",
       "      <td>6,016</td>\n",
       "      <td>non-stop</td>\n",
       "      <td>NaN</td>\n",
       "      <td>NaN</td>\n",
       "    </tr>\n",
       "    <tr>\n",
       "      <th>3</th>\n",
       "      <td>26-06-2023</td>\n",
       "      <td>Vistara</td>\n",
       "      <td>UK-995</td>\n",
       "      <td>economy</td>\n",
       "      <td>Delhi</td>\n",
       "      <td>10:20</td>\n",
       "      <td>Mumbai</td>\n",
       "      <td>12:35</td>\n",
       "      <td>02h 15m</td>\n",
       "      <td>6,015</td>\n",
       "      <td>non-stop</td>\n",
       "      <td>NaN</td>\n",
       "      <td>NaN</td>\n",
       "    </tr>\n",
       "    <tr>\n",
       "      <th>4</th>\n",
       "      <td>26-06-2023</td>\n",
       "      <td>Vistara</td>\n",
       "      <td>UK-963</td>\n",
       "      <td>economy</td>\n",
       "      <td>Delhi</td>\n",
       "      <td>08:50</td>\n",
       "      <td>Mumbai</td>\n",
       "      <td>11:10</td>\n",
       "      <td>02h 20m</td>\n",
       "      <td>6,015</td>\n",
       "      <td>non-stop</td>\n",
       "      <td>NaN</td>\n",
       "      <td>NaN</td>\n",
       "    </tr>\n",
       "  </tbody>\n",
       "</table>\n",
       "</div>"
      ],
      "text/plain": [
       "  flight date   airline flight_num    class   from dep_time      to arr_time  \\\n",
       "0  26-06-2023  SpiceJet    SG-8709  economy  Delhi    18:55  Mumbai    21:05   \n",
       "1  26-06-2023  SpiceJet    SG-8157  economy  Delhi    06:20  Mumbai    08:40   \n",
       "2  26-06-2023   AirAsia     I5-764  economy  Delhi    04:25  Mumbai    06:35   \n",
       "3  26-06-2023   Vistara     UK-995  economy  Delhi    10:20  Mumbai    12:35   \n",
       "4  26-06-2023   Vistara     UK-963  economy  Delhi    08:50  Mumbai    11:10   \n",
       "\n",
       "  duration  price     stops  Unnamed: 11  Unnamed: 12  \n",
       "0  02h 10m  6,013  non-stop          NaN          NaN  \n",
       "1  02h 20m  6,013  non-stop          NaN          NaN  \n",
       "2  02h 10m  6,016  non-stop          NaN          NaN  \n",
       "3  02h 15m  6,015  non-stop          NaN          NaN  \n",
       "4  02h 20m  6,015  non-stop          NaN          NaN  "
      ]
     },
     "execution_count": 11,
     "metadata": {},
     "output_type": "execute_result"
    }
   ],
   "source": [
    "data.head()"
   ]
  },
  {
   "cell_type": "code",
   "execution_count": 12,
   "id": "d4f0f676-3e1a-4201-b08d-76693988f2cb",
   "metadata": {},
   "outputs": [
    {
     "data": {
      "text/plain": [
       "(300261, 13)"
      ]
     },
     "execution_count": 12,
     "metadata": {},
     "output_type": "execute_result"
    }
   ],
   "source": [
    "data.shape"
   ]
  },
  {
   "cell_type": "code",
   "execution_count": 13,
   "id": "5a095f3e-5d24-49c9-9a65-b1427dcb09d1",
   "metadata": {},
   "outputs": [
    {
     "name": "stdout",
     "output_type": "stream",
     "text": [
      "<class 'pandas.core.frame.DataFrame'>\n",
      "RangeIndex: 300261 entries, 0 to 300260\n",
      "Data columns (total 13 columns):\n",
      " #   Column       Non-Null Count   Dtype  \n",
      "---  ------       --------------   -----  \n",
      " 0   flight date  300261 non-null  object \n",
      " 1   airline      300261 non-null  object \n",
      " 2   flight_num   300261 non-null  object \n",
      " 3   class        300261 non-null  object \n",
      " 4   from         300261 non-null  object \n",
      " 5   dep_time     300261 non-null  object \n",
      " 6   to           300261 non-null  object \n",
      " 7   arr_time     300261 non-null  object \n",
      " 8   duration     300261 non-null  object \n",
      " 9   price        300261 non-null  object \n",
      " 10  stops        300261 non-null  object \n",
      " 11  Unnamed: 11  0 non-null       float64\n",
      " 12  Unnamed: 12  0 non-null       float64\n",
      "dtypes: float64(2), object(11)\n",
      "memory usage: 29.8+ MB\n"
     ]
    }
   ],
   "source": [
    "data.info()"
   ]
  },
  {
   "cell_type": "code",
   "execution_count": 14,
   "id": "5b98a7ac-44a1-4153-af9f-81385b2d68af",
   "metadata": {},
   "outputs": [],
   "source": [
    "import numpy as np\n",
    "import matplotlib.pyplot as plt\n",
    "import seaborn as sns\n",
    "import warnings\n",
    "warnings.filterwarnings('ignore')"
   ]
  },
  {
   "cell_type": "code",
   "execution_count": 15,
   "id": "996c10e8-7236-4b1f-a845-6a2aed055185",
   "metadata": {},
   "outputs": [
    {
     "data": {
      "text/plain": [
       "Index(['flight date', 'airline', 'flight_num', 'class', 'from', 'dep_time',\n",
       "       'to', 'arr_time', 'duration', 'price', 'stops', 'Unnamed: 11',\n",
       "       'Unnamed: 12'],\n",
       "      dtype='object')"
      ]
     },
     "execution_count": 15,
     "metadata": {},
     "output_type": "execute_result"
    }
   ],
   "source": [
    "data.columns"
   ]
  },
  {
   "cell_type": "code",
   "execution_count": 16,
   "id": "b3eeb93a-44d4-40ad-a815-5d309ccca1a1",
   "metadata": {},
   "outputs": [],
   "source": [
    "#dropping columns with no data\n",
    "data.drop(['Unnamed: 11', 'Unnamed: 12'], axis=1, inplace=True)"
   ]
  },
  {
   "cell_type": "code",
   "execution_count": 17,
   "id": "4b0f3bd2-6a93-4449-bbe2-0a8e6a6d981f",
   "metadata": {},
   "outputs": [
    {
     "data": {
      "text/html": [
       "<div>\n",
       "<style scoped>\n",
       "    .dataframe tbody tr th:only-of-type {\n",
       "        vertical-align: middle;\n",
       "    }\n",
       "\n",
       "    .dataframe tbody tr th {\n",
       "        vertical-align: top;\n",
       "    }\n",
       "\n",
       "    .dataframe thead th {\n",
       "        text-align: right;\n",
       "    }\n",
       "</style>\n",
       "<table border=\"1\" class=\"dataframe\">\n",
       "  <thead>\n",
       "    <tr style=\"text-align: right;\">\n",
       "      <th></th>\n",
       "      <th>flight date</th>\n",
       "      <th>airline</th>\n",
       "      <th>flight_num</th>\n",
       "      <th>class</th>\n",
       "      <th>from</th>\n",
       "      <th>dep_time</th>\n",
       "      <th>to</th>\n",
       "      <th>arr_time</th>\n",
       "      <th>duration</th>\n",
       "      <th>price</th>\n",
       "      <th>stops</th>\n",
       "    </tr>\n",
       "  </thead>\n",
       "  <tbody>\n",
       "    <tr>\n",
       "      <th>count</th>\n",
       "      <td>300261</td>\n",
       "      <td>300261</td>\n",
       "      <td>300261</td>\n",
       "      <td>300261</td>\n",
       "      <td>300261</td>\n",
       "      <td>300261</td>\n",
       "      <td>300261</td>\n",
       "      <td>300261</td>\n",
       "      <td>300261</td>\n",
       "      <td>300261</td>\n",
       "      <td>300261</td>\n",
       "    </tr>\n",
       "    <tr>\n",
       "      <th>unique</th>\n",
       "      <td>49</td>\n",
       "      <td>8</td>\n",
       "      <td>1569</td>\n",
       "      <td>2</td>\n",
       "      <td>6</td>\n",
       "      <td>251</td>\n",
       "      <td>6</td>\n",
       "      <td>266</td>\n",
       "      <td>483</td>\n",
       "      <td>12170</td>\n",
       "      <td>40</td>\n",
       "    </tr>\n",
       "    <tr>\n",
       "      <th>top</th>\n",
       "      <td>20-07-2023</td>\n",
       "      <td>Vistara</td>\n",
       "      <td>UK-706</td>\n",
       "      <td>economy</td>\n",
       "      <td>Delhi</td>\n",
       "      <td>07:00</td>\n",
       "      <td>Mumbai</td>\n",
       "      <td>19:55</td>\n",
       "      <td>02h 10m</td>\n",
       "      <td>55,427</td>\n",
       "      <td>1-stop</td>\n",
       "    </tr>\n",
       "    <tr>\n",
       "      <th>freq</th>\n",
       "      <td>6633</td>\n",
       "      <td>127859</td>\n",
       "      <td>3235</td>\n",
       "      <td>206774</td>\n",
       "      <td>61345</td>\n",
       "      <td>8760</td>\n",
       "      <td>59109</td>\n",
       "      <td>9194</td>\n",
       "      <td>4242</td>\n",
       "      <td>1445</td>\n",
       "      <td>243603</td>\n",
       "    </tr>\n",
       "  </tbody>\n",
       "</table>\n",
       "</div>"
      ],
      "text/plain": [
       "       flight date  airline flight_num    class    from dep_time      to  \\\n",
       "count       300261   300261     300261   300261  300261   300261  300261   \n",
       "unique          49        8       1569        2       6      251       6   \n",
       "top     20-07-2023  Vistara     UK-706  economy   Delhi    07:00  Mumbai   \n",
       "freq          6633   127859       3235   206774   61345     8760   59109   \n",
       "\n",
       "       arr_time duration   price   stops  \n",
       "count    300261   300261  300261  300261  \n",
       "unique      266      483   12170      40  \n",
       "top       19:55  02h 10m  55,427  1-stop  \n",
       "freq       9194     4242    1445  243603  "
      ]
     },
     "execution_count": 17,
     "metadata": {},
     "output_type": "execute_result"
    }
   ],
   "source": [
    "data.describe()"
   ]
  },
  {
   "cell_type": "code",
   "execution_count": 18,
   "id": "154936c2-f7a5-4098-b1a2-1ba9c6ac7c83",
   "metadata": {},
   "outputs": [],
   "source": [
    "#Split Date,Month,Year separately from flight date\n",
    "data['Date']=data['flight date'].str.split('-').str[0]\n",
    "data['Month']=data['flight date'].str.split('-').str[1]\n",
    "data['Year']=data['flight date'].str.split('-').str[2]"
   ]
  },
  {
   "cell_type": "code",
   "execution_count": 19,
   "id": "db583cf0-6c04-4980-9c37-2357ed468234",
   "metadata": {},
   "outputs": [],
   "source": [
    "#changing data type for Date,Month,Year\n",
    "data['Date']=data['Date'].astype(int)\n",
    "data['Month']=data['Month'].astype(int)\n",
    "data['Year']=data['Year'].astype(int)"
   ]
  },
  {
   "cell_type": "code",
   "execution_count": 20,
   "id": "3852f0e0-0caf-4ebd-82db-a22ad74b3a7a",
   "metadata": {},
   "outputs": [],
   "source": [
    "#dropping flight data column\n",
    "data.drop(['flight date'],axis=1, inplace=True)"
   ]
  },
  {
   "cell_type": "code",
   "execution_count": 21,
   "id": "78b7446b-5fcb-4a79-a3cd-05c205fa28d4",
   "metadata": {},
   "outputs": [],
   "source": [
    "#Split dep_time and arr_time\n",
    "data['Departure Hour']=data['dep_time'].str.split(':').str[0]\n",
    "data['Departure Minutes']=data['dep_time'].str.split(':').str[1]\n",
    "data['Arrival Hour']=data['arr_time'].str.split(':').str[0]\n",
    "data['Arrival Minutes']=data['arr_time'].str.split(':').str[1]"
   ]
  },
  {
   "cell_type": "code",
   "execution_count": 22,
   "id": "e0a7a633-4201-49f4-8a00-38651099422d",
   "metadata": {},
   "outputs": [],
   "source": [
    "#changing data type for dep_time and arr_time\n",
    "data['Departure Hour']=data['Departure Hour'].astype(int)\n",
    "data['Departure Minutes']=data['Departure Minutes'].astype(int)\n",
    "data['Arrival Hour']=data['Arrival Hour'].astype(int)\n",
    "data['Arrival Minutes']=data['Arrival Minutes'].astype(int)"
   ]
  },
  {
   "cell_type": "code",
   "execution_count": 23,
   "id": "42fc22ed-7cd8-4396-a810-5d2c295b2c29",
   "metadata": {},
   "outputs": [
    {
     "data": {
      "text/html": [
       "<div>\n",
       "<style scoped>\n",
       "    .dataframe tbody tr th:only-of-type {\n",
       "        vertical-align: middle;\n",
       "    }\n",
       "\n",
       "    .dataframe tbody tr th {\n",
       "        vertical-align: top;\n",
       "    }\n",
       "\n",
       "    .dataframe thead th {\n",
       "        text-align: right;\n",
       "    }\n",
       "</style>\n",
       "<table border=\"1\" class=\"dataframe\">\n",
       "  <thead>\n",
       "    <tr style=\"text-align: right;\">\n",
       "      <th></th>\n",
       "      <th>airline</th>\n",
       "      <th>flight_num</th>\n",
       "      <th>class</th>\n",
       "      <th>from</th>\n",
       "      <th>dep_time</th>\n",
       "      <th>to</th>\n",
       "      <th>arr_time</th>\n",
       "      <th>duration</th>\n",
       "      <th>price</th>\n",
       "      <th>stops</th>\n",
       "      <th>Date</th>\n",
       "      <th>Month</th>\n",
       "      <th>Year</th>\n",
       "      <th>Departure Hour</th>\n",
       "      <th>Departure Minutes</th>\n",
       "      <th>Arrival Hour</th>\n",
       "      <th>Arrival Minutes</th>\n",
       "    </tr>\n",
       "  </thead>\n",
       "  <tbody>\n",
       "    <tr>\n",
       "      <th>0</th>\n",
       "      <td>SpiceJet</td>\n",
       "      <td>SG-8709</td>\n",
       "      <td>economy</td>\n",
       "      <td>Delhi</td>\n",
       "      <td>18:55</td>\n",
       "      <td>Mumbai</td>\n",
       "      <td>21:05</td>\n",
       "      <td>02h 10m</td>\n",
       "      <td>6,013</td>\n",
       "      <td>non-stop</td>\n",
       "      <td>26</td>\n",
       "      <td>6</td>\n",
       "      <td>2023</td>\n",
       "      <td>18</td>\n",
       "      <td>55</td>\n",
       "      <td>21</td>\n",
       "      <td>5</td>\n",
       "    </tr>\n",
       "    <tr>\n",
       "      <th>1</th>\n",
       "      <td>SpiceJet</td>\n",
       "      <td>SG-8157</td>\n",
       "      <td>economy</td>\n",
       "      <td>Delhi</td>\n",
       "      <td>06:20</td>\n",
       "      <td>Mumbai</td>\n",
       "      <td>08:40</td>\n",
       "      <td>02h 20m</td>\n",
       "      <td>6,013</td>\n",
       "      <td>non-stop</td>\n",
       "      <td>26</td>\n",
       "      <td>6</td>\n",
       "      <td>2023</td>\n",
       "      <td>6</td>\n",
       "      <td>20</td>\n",
       "      <td>8</td>\n",
       "      <td>40</td>\n",
       "    </tr>\n",
       "    <tr>\n",
       "      <th>2</th>\n",
       "      <td>AirAsia</td>\n",
       "      <td>I5-764</td>\n",
       "      <td>economy</td>\n",
       "      <td>Delhi</td>\n",
       "      <td>04:25</td>\n",
       "      <td>Mumbai</td>\n",
       "      <td>06:35</td>\n",
       "      <td>02h 10m</td>\n",
       "      <td>6,016</td>\n",
       "      <td>non-stop</td>\n",
       "      <td>26</td>\n",
       "      <td>6</td>\n",
       "      <td>2023</td>\n",
       "      <td>4</td>\n",
       "      <td>25</td>\n",
       "      <td>6</td>\n",
       "      <td>35</td>\n",
       "    </tr>\n",
       "    <tr>\n",
       "      <th>3</th>\n",
       "      <td>Vistara</td>\n",
       "      <td>UK-995</td>\n",
       "      <td>economy</td>\n",
       "      <td>Delhi</td>\n",
       "      <td>10:20</td>\n",
       "      <td>Mumbai</td>\n",
       "      <td>12:35</td>\n",
       "      <td>02h 15m</td>\n",
       "      <td>6,015</td>\n",
       "      <td>non-stop</td>\n",
       "      <td>26</td>\n",
       "      <td>6</td>\n",
       "      <td>2023</td>\n",
       "      <td>10</td>\n",
       "      <td>20</td>\n",
       "      <td>12</td>\n",
       "      <td>35</td>\n",
       "    </tr>\n",
       "    <tr>\n",
       "      <th>4</th>\n",
       "      <td>Vistara</td>\n",
       "      <td>UK-963</td>\n",
       "      <td>economy</td>\n",
       "      <td>Delhi</td>\n",
       "      <td>08:50</td>\n",
       "      <td>Mumbai</td>\n",
       "      <td>11:10</td>\n",
       "      <td>02h 20m</td>\n",
       "      <td>6,015</td>\n",
       "      <td>non-stop</td>\n",
       "      <td>26</td>\n",
       "      <td>6</td>\n",
       "      <td>2023</td>\n",
       "      <td>8</td>\n",
       "      <td>50</td>\n",
       "      <td>11</td>\n",
       "      <td>10</td>\n",
       "    </tr>\n",
       "  </tbody>\n",
       "</table>\n",
       "</div>"
      ],
      "text/plain": [
       "    airline flight_num    class   from dep_time      to arr_time duration  \\\n",
       "0  SpiceJet    SG-8709  economy  Delhi    18:55  Mumbai    21:05  02h 10m   \n",
       "1  SpiceJet    SG-8157  economy  Delhi    06:20  Mumbai    08:40  02h 20m   \n",
       "2   AirAsia     I5-764  economy  Delhi    04:25  Mumbai    06:35  02h 10m   \n",
       "3   Vistara     UK-995  economy  Delhi    10:20  Mumbai    12:35  02h 15m   \n",
       "4   Vistara     UK-963  economy  Delhi    08:50  Mumbai    11:10  02h 20m   \n",
       "\n",
       "   price     stops  Date  Month  Year  Departure Hour  Departure Minutes  \\\n",
       "0  6,013  non-stop    26      6  2023              18                 55   \n",
       "1  6,013  non-stop    26      6  2023               6                 20   \n",
       "2  6,016  non-stop    26      6  2023               4                 25   \n",
       "3  6,015  non-stop    26      6  2023              10                 20   \n",
       "4  6,015  non-stop    26      6  2023               8                 50   \n",
       "\n",
       "   Arrival Hour  Arrival Minutes  \n",
       "0            21                5  \n",
       "1             8               40  \n",
       "2             6               35  \n",
       "3            12               35  \n",
       "4            11               10  "
      ]
     },
     "execution_count": 23,
     "metadata": {},
     "output_type": "execute_result"
    }
   ],
   "source": [
    "data.head()"
   ]
  },
  {
   "cell_type": "code",
   "execution_count": 24,
   "id": "13d54891-ba95-488e-b504-2c53d0823eff",
   "metadata": {},
   "outputs": [],
   "source": [
    "#dropping column dep_time and arr_time\n",
    "data.drop(['dep_time','arr_time'],axis=1, inplace=True)"
   ]
  },
  {
   "cell_type": "code",
   "execution_count": 25,
   "id": "d0706be3-97d7-4737-9353-8d830544d484",
   "metadata": {},
   "outputs": [],
   "source": [
    "#Split duration\n",
    "data['Duration hour']=data['duration'].str.split(' ').str[0].str.split('h').str[0]\n",
    "data['Duration minutes']=data['duration'].str.split(' ').str[1].str.split('m').str[0]"
   ]
  },
  {
   "cell_type": "code",
   "execution_count": 26,
   "id": "d4000962-4e8b-42af-b90b-aea669e8bfa9",
   "metadata": {},
   "outputs": [],
   "source": [
    "#changing data type\n",
    "data['Duration hour'] = pd.to_numeric(data['Duration hour'], errors='coerce').fillna(0).astype(int)\n",
    "data['Duration minutes'] = pd.to_numeric(data['Duration minutes'], errors='coerce').fillna(0).astype(int)"
   ]
  },
  {
   "cell_type": "code",
   "execution_count": 27,
   "id": "42ebb23d-9638-4640-ae07-4d320edbd4b0",
   "metadata": {},
   "outputs": [
    {
     "name": "stdout",
     "output_type": "stream",
     "text": [
      "<class 'pandas.core.frame.DataFrame'>\n",
      "RangeIndex: 300261 entries, 0 to 300260\n",
      "Data columns (total 17 columns):\n",
      " #   Column             Non-Null Count   Dtype \n",
      "---  ------             --------------   ----- \n",
      " 0   airline            300261 non-null  object\n",
      " 1   flight_num         300261 non-null  object\n",
      " 2   class              300261 non-null  object\n",
      " 3   from               300261 non-null  object\n",
      " 4   to                 300261 non-null  object\n",
      " 5   duration           300261 non-null  object\n",
      " 6   price              300261 non-null  object\n",
      " 7   stops              300261 non-null  object\n",
      " 8   Date               300261 non-null  int32 \n",
      " 9   Month              300261 non-null  int32 \n",
      " 10  Year               300261 non-null  int32 \n",
      " 11  Departure Hour     300261 non-null  int32 \n",
      " 12  Departure Minutes  300261 non-null  int32 \n",
      " 13  Arrival Hour       300261 non-null  int32 \n",
      " 14  Arrival Minutes    300261 non-null  int32 \n",
      " 15  Duration hour      300261 non-null  int32 \n",
      " 16  Duration minutes   300261 non-null  int32 \n",
      "dtypes: int32(9), object(8)\n",
      "memory usage: 28.6+ MB\n"
     ]
    }
   ],
   "source": [
    "data.info()"
   ]
  },
  {
   "cell_type": "code",
   "execution_count": 49,
   "id": "c45ebb32-4f4a-4950-8249-7caa30e64fa9",
   "metadata": {},
   "outputs": [
    {
     "data": {
      "image/png": "[encoded data removed]",
      "text/plain": [
       "<Figure size 1200x800 with 1 Axes>"
      ]
     },
     "metadata": {},
     "output_type": "display_data"
    }
   ],
   "source": [
    "#Creating Pie Chart\n",
    "import matplotlib.pyplot as plt\n",
    "import seaborn as sns\n",
    "\n",
    "airline_counts=data['airline'].value_counts()\n",
    "\n",
    "plt.figure(figsize=(12,8))\n",
    "plt.pie(airline_counts,labels=airline_counts.index,autopct='%1.1f%%')\n",
    "plt.title('Airline Distribution')\n",
    "plt.axis('equal')\n",
    "plt.show()"
   ]
  },
  {
   "cell_type": "code",
   "execution_count": 54,
   "id": "40d58619-b283-491f-b4f4-9e3daaf2c1ca",
   "metadata": {},
   "outputs": [
    {
     "data": {
      "text/plain": [
       "price\n",
       "55,427    1445\n",
       "2,362     1442\n",
       "55,504    1390\n",
       "61,893    1383\n",
       "61,416    1230\n",
       "          ... \n",
       "15,950       1\n",
       "17,482       1\n",
       "19,292       1\n",
       "9,216        1\n",
       "7,893        1\n",
       "Name: count, Length: 12170, dtype: int64"
      ]
     },
     "execution_count": 54,
     "metadata": {},
     "output_type": "execute_result"
    }
   ],
   "source": [
    "data['price'].value_counts()"
   ]
  },
  {
   "cell_type": "code",
   "execution_count": 55,
   "id": "e005b703-a17e-47d8-8f45-27c59b283cef",
   "metadata": {},
   "outputs": [],
   "source": [
    "data['price']=data['price'].str.replace(',','').astype(int)"
   ]
  },
  {
   "cell_type": "code",
   "execution_count": 61,
   "id": "d33273b3-3bb5-4ba5-8624-2aae3a586aac",
   "metadata": {},
   "outputs": [
    {
     "data": {
      "text/plain": [
       "array([ 6013,  6016,  6015, ..., 75852, 15225, 78262])"
      ]
     },
     "execution_count": 61,
     "metadata": {},
     "output_type": "execute_result"
    }
   ],
   "source": [
    "data['price'].unique()"
   ]
  },
  {
   "cell_type": "code",
   "execution_count": 63,
   "id": "9225e5de-56f0-4537-9feb-20c0b426fa37",
   "metadata": {},
   "outputs": [
    {
     "data": {
      "image/png": "[encoded data removed]",
      "text/plain": [
       "<Figure size 1200x600 with 1 Axes>"
      ]
     },
     "metadata": {},
     "output_type": "display_data"
    }
   ],
   "source": [
    "plt.figure(figsize=(12,6))\n",
    "sns.barplot(data=data,x='airline',y='price')\n",
    "plt.show()"
   ]
  },
  {
   "cell_type": "code",
   "execution_count": 65,
   "id": "1c63dea2-3e65-458d-9562-9af6976586d7",
   "metadata": {},
   "outputs": [
    {
     "data": {
      "text/plain": [
       "array(['non-stop', '1-stop',\n",
       "       '1-stop\\n\\t\\t\\t\\t\\t\\t\\t\\t\\t\\t\\t\\tVia IXU\\n\\t\\t\\t\\t\\t\\t\\t\\t\\t\\t\\t\\t',\n",
       "       '1-stop\\n\\t\\t\\t\\t\\t\\t\\t\\t\\t\\t\\t\\tVia Chennai\\n\\t\\t\\t\\t\\t\\t\\t\\t\\t\\t\\t\\t',\n",
       "       '1-stop\\n\\t\\t\\t\\t\\t\\t\\t\\t\\t\\t\\t\\tVia Indore\\n\\t\\t\\t\\t\\t\\t\\t\\t\\t\\t\\t\\t',\n",
       "       '1-stop\\n\\t\\t\\t\\t\\t\\t\\t\\t\\t\\t\\t\\tVia RPR\\n\\t\\t\\t\\t\\t\\t\\t\\t\\t\\t\\t\\t',\n",
       "       '2+-stop',\n",
       "       '1-stop\\n\\t\\t\\t\\t\\t\\t\\t\\t\\t\\t\\t\\tVia Lucknow\\n\\t\\t\\t\\t\\t\\t\\t\\t\\t\\t\\t\\t',\n",
       "       '1-stop\\n\\t\\t\\t\\t\\t\\t\\t\\t\\t\\t\\t\\tVia GOP\\n\\t\\t\\t\\t\\t\\t\\t\\t\\t\\t\\t\\t',\n",
       "       '1-stop\\n\\t\\t\\t\\t\\t\\t\\t\\t\\t\\t\\t\\tVia Raipur\\n\\t\\t\\t\\t\\t\\t\\t\\t\\t\\t\\t\\t',\n",
       "       '1-stop\\n\\t\\t\\t\\t\\t\\t\\t\\t\\t\\t\\t\\tVia Nagpur\\n\\t\\t\\t\\t\\t\\t\\t\\t\\t\\t\\t\\t',\n",
       "       '1-stop\\n\\t\\t\\t\\t\\t\\t\\t\\t\\t\\t\\t\\tVia Surat\\n\\t\\t\\t\\t\\t\\t\\t\\t\\t\\t\\t\\t',\n",
       "       '1-stop\\n\\t\\t\\t\\t\\t\\t\\t\\t\\t\\t\\t\\tVia Hyderabad\\n\\t\\t\\t\\t\\t\\t\\t\\t\\t\\t\\t\\t',\n",
       "       '1-stop\\n\\t\\t\\t\\t\\t\\t\\t\\t\\t\\t\\t\\tVia STV\\n\\t\\t\\t\\t\\t\\t\\t\\t\\t\\t\\t\\t',\n",
       "       '1-stop\\n\\t\\t\\t\\t\\t\\t\\t\\t\\t\\t\\t\\tVia IDR\\n\\t\\t\\t\\t\\t\\t\\t\\t\\t\\t\\t\\t',\n",
       "       '1-stop\\n\\t\\t\\t\\t\\t\\t\\t\\t\\t\\t\\t\\tVia VTZ\\n\\t\\t\\t\\t\\t\\t\\t\\t\\t\\t\\t\\t',\n",
       "       '1-stop\\n\\t\\t\\t\\t\\t\\t\\t\\t\\t\\t\\t\\tVia Guwahati\\n\\t\\t\\t\\t\\t\\t\\t\\t\\t\\t\\t\\t',\n",
       "       '1-stop\\n\\t\\t\\t\\t\\t\\t\\t\\t\\t\\t\\t\\tVia NAG\\n\\t\\t\\t\\t\\t\\t\\t\\t\\t\\t\\t\\t',\n",
       "       '1-stop\\n\\t\\t\\t\\t\\t\\t\\t\\t\\t\\t\\t\\tVia Vishakhapatnam\\n\\t\\t\\t\\t\\t\\t\\t\\t\\t\\t\\t\\t',\n",
       "       '1-stop\\n\\t\\t\\t\\t\\t\\t\\t\\t\\t\\t\\t\\tVia NDC\\n\\t\\t\\t\\t\\t\\t\\t\\t\\t\\t\\t\\t',\n",
       "       '1-stop\\n\\t\\t\\t\\t\\t\\t\\t\\t\\t\\t\\t\\tVia IXE\\n\\t\\t\\t\\t\\t\\t\\t\\t\\t\\t\\t\\t',\n",
       "       '1-stop\\n\\t\\t\\t\\t\\t\\t\\t\\t\\t\\t\\t\\tVia Patna\\n\\t\\t\\t\\t\\t\\t\\t\\t\\t\\t\\t\\t',\n",
       "       '1-stop\\n\\t\\t\\t\\t\\t\\t\\t\\t\\t\\t\\t\\tVia PAT\\n\\t\\t\\t\\t\\t\\t\\t\\t\\t\\t\\t\\t',\n",
       "       '1-stop\\n\\t\\t\\t\\t\\t\\t\\t\\t\\t\\t\\t\\tVia Mangalore\\n\\t\\t\\t\\t\\t\\t\\t\\t\\t\\t\\t\\t',\n",
       "       '1-stop\\n\\t\\t\\t\\t\\t\\t\\t\\t\\t\\t\\t\\tVia Mumbai\\n\\t\\t\\t\\t\\t\\t\\t\\t\\t\\t\\t\\t',\n",
       "       '1-stop\\n\\t\\t\\t\\t\\t\\t\\t\\t\\t\\t\\t\\tVia KLH\\n\\t\\t\\t\\t\\t\\t\\t\\t\\t\\t\\t\\t',\n",
       "       '1-stop\\n\\t\\t\\t\\t\\t\\t\\t\\t\\t\\t\\t\\tVia MYQ\\n\\t\\t\\t\\t\\t\\t\\t\\t\\t\\t\\t\\t',\n",
       "       '1-stop\\n\\t\\t\\t\\t\\t\\t\\t\\t\\t\\t\\t\\tVia Kolkata\\n\\t\\t\\t\\t\\t\\t\\t\\t\\t\\t\\t\\t',\n",
       "       '1-stop\\n\\t\\t\\t\\t\\t\\t\\t\\t\\t\\t\\t\\tVia Delhi\\n\\t\\t\\t\\t\\t\\t\\t\\t\\t\\t\\t\\t',\n",
       "       '1-stop\\n\\t\\t\\t\\t\\t\\t\\t\\t\\t\\t\\t\\tVia Kolhapur\\n\\t\\t\\t\\t\\t\\t\\t\\t\\t\\t\\t\\t',\n",
       "       '1-stop\\n\\t\\t\\t\\t\\t\\t\\t\\t\\t\\t\\t\\tVia JRG\\n\\t\\t\\t\\t\\t\\t\\t\\t\\t\\t\\t\\t',\n",
       "       '1-stop\\n\\t\\t\\t\\t\\t\\t\\t\\t\\t\\t\\t\\tVia Bhubaneswar\\n\\t\\t\\t\\t\\t\\t\\t\\t\\t\\t\\t\\t',\n",
       "       '1-stop\\n\\t\\t\\t\\t\\t\\t\\t\\t\\t\\t\\t\\tVia Ranchi\\n\\t\\t\\t\\t\\t\\t\\t\\t\\t\\t\\t\\t',\n",
       "       '1-stop\\n\\t\\t\\t\\t\\t\\t\\t\\t\\t\\t\\t\\tVia IXR\\n\\t\\t\\t\\t\\t\\t\\t\\t\\t\\t\\t\\t',\n",
       "       '1-stop\\n\\t\\t\\t\\t\\t\\t\\t\\t\\t\\t\\t\\tVia JGB\\n\\t\\t\\t\\t\\t\\t\\t\\t\\t\\t\\t\\t',\n",
       "       '1-stop\\n\\t\\t\\t\\t\\t\\t\\t\\t\\t\\t\\t\\tVia BBI\\n\\t\\t\\t\\t\\t\\t\\t\\t\\t\\t\\t\\t',\n",
       "       '1-stop\\n\\t\\t\\t\\t\\t\\t\\t\\t\\t\\t\\t\\tVia Mysore\\n\\t\\t\\t\\t\\t\\t\\t\\t\\t\\t\\t\\t',\n",
       "       '1-stop\\n\\t\\t\\t\\t\\t\\t\\t\\t\\t\\t\\t\\tVia GAY\\n\\t\\t\\t\\t\\t\\t\\t\\t\\t\\t\\t\\t',\n",
       "       '1-stop\\n\\t\\t\\t\\t\\t\\t\\t\\t\\t\\t\\t\\tVia GAU\\n\\t\\t\\t\\t\\t\\t\\t\\t\\t\\t\\t\\t',\n",
       "       '1-stop\\n\\t\\t\\t\\t\\t\\t\\t\\t\\t\\t\\t\\tVia HYD\\n\\t\\t\\t\\t\\t\\t\\t\\t\\t\\t\\t\\t'],\n",
       "      dtype=object)"
      ]
     },
     "execution_count": 65,
     "metadata": {},
     "output_type": "execute_result"
    }
   ],
   "source": [
    "data['stops'].unique()"
   ]
  },
  {
   "cell_type": "code",
   "execution_count": 67,
   "id": "41960272-8393-47f0-a1eb-4c4f9ef34e5b",
   "metadata": {},
   "outputs": [],
   "source": [
    "data['stops']=data['stops'].map({'non-stop':0,'1-stop':1,'2+-stop':2})"
   ]
  },
  {
   "cell_type": "code",
   "execution_count": 69,
   "id": "15039701-478a-4acd-ac83-53768ff7f97c",
   "metadata": {},
   "outputs": [
    {
     "data": {
      "text/plain": [
       "array([ 0.,  1., nan,  2.])"
      ]
     },
     "execution_count": 69,
     "metadata": {},
     "output_type": "execute_result"
    }
   ],
   "source": [
    "data['stops'].unique()"
   ]
  },
  {
   "cell_type": "code",
   "execution_count": 71,
   "id": "28b0e7ff-e39d-4697-8c56-f91338af7285",
   "metadata": {},
   "outputs": [
    {
     "data": {
      "image/png": "[encoded data removed]",
      "text/plain": [
       "<Figure size 1200x600 with 1 Axes>"
      ]
     },
     "metadata": {},
     "output_type": "display_data"
    }
   ],
   "source": [
    "plt.figure(figsize=(12,6))\n",
    "sns.barplot(data=data,x='stops',y='price')\n",
    "plt.show()"
   ]
  },
  {
   "cell_type": "code",
   "execution_count": null,
   "id": "533c981b-68b2-4b63-92d3-2ae41d46ca7f",
   "metadata": {},
   "outputs": [],
   "source": []
  }
 ],
 "metadata": {
  "kernelspec": {
   "display_name": "Python 3 (ipykernel)",
   "language": "python",
   "name": "python3"
  },
  "language_info": {
   "codemirror_mode": {
    "name": "ipython",
    "version": 3
   },
   "file_extension": ".py",
   "mimetype": "text/x-python",
   "name": "python",
   "nbconvert_exporter": "python",
   "pygments_lexer": "ipython3",
   "version": "3.12.4"
  }
 },
 "nbformat": 4,
 "nbformat_minor": 5
}
